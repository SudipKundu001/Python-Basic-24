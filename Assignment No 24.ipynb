{
 "cells": [
  {
   "cell_type": "markdown",
   "id": "73be7c7e",
   "metadata": {},
   "source": [
    ">__1. What is the difference between def statements and lambda expressions ?__"
   ]
  },
  {
   "cell_type": "markdown",
   "id": "bf0836e7",
   "metadata": {},
   "source": [
    "Ans. \n",
    "* Def can hold multiple expressions while lambda is a uni-expression function.\n",
    "* Def generates a function and designates a name to call it later. Lambda forms a function object and returns it.\n",
    "* Def can have a return statement. Lambda can’t have return statements.\n",
    "* Lambda supports to get used inside a list and dictionary."
   ]
  },
  {
   "cell_type": "markdown",
   "id": "cfcf8264",
   "metadata": {},
   "source": [
    ">__2. What is the benefit of lambda?__"
   ]
  },
  {
   "cell_type": "markdown",
   "id": "4a4b3783",
   "metadata": {},
   "source": [
    "Ans.  One of the most benefits of a lambda expression is to reduce the amount of code. The lambda keyword in Python provides a shortcut for declaring small anonymous functions."
   ]
  },
  {
   "cell_type": "markdown",
   "id": "5f53ae42",
   "metadata": {},
   "source": [
    ">__3. Compare and contrast map, filter, and reduce.__"
   ]
  },
  {
   "cell_type": "markdown",
   "id": "31db4eaa",
   "metadata": {},
   "source": [
    "Ans.  map creates a new array by transforming every element in an array individually. filter creates a new array by removing elements that don't belong. reduce takes all of the elements in an array and reduces them into a single value."
   ]
  },
  {
   "cell_type": "markdown",
   "id": "512f6a6b",
   "metadata": {},
   "source": [
    ">__4. What are function annotations, and how are they used?__"
   ]
  },
  {
   "cell_type": "markdown",
   "id": "009b281f",
   "metadata": {},
   "source": [
    "Function annotations are completely optional both for parameters and return value.Function annotations provide a way of associating various parts of a function with arbitrary python expressions at compile time. "
   ]
  },
  {
   "cell_type": "code",
   "execution_count": 3,
   "id": "4047ff6f",
   "metadata": {},
   "outputs": [
    {
     "name": "stdout",
     "output_type": "stream",
     "text": [
      "{'n': 'int', 'output': 'list', 'return': 'list'}\n"
     ]
    }
   ],
   "source": [
    "# Python program to illustrate Function Annotations\n",
    "\n",
    "def fib(n:'int', output:'list'=[])-> 'list':\n",
    "     if n == 0:\n",
    "        return output\n",
    "     else:\n",
    "        if len(output)< 2:\n",
    "            output.append(1)\n",
    "            fib(n-1, output)\n",
    "        else:\n",
    "            last = output[-1]\n",
    "            second_last = output[-2]\n",
    "            output.append(last + second_last)\n",
    "            fib(n-1, output)\n",
    "        return output\n",
    "print(fib.__annotations__)\n"
   ]
  },
  {
   "cell_type": "markdown",
   "id": "a62407c0",
   "metadata": {},
   "source": [
    ">__5. What are recursive functions, and how are they used?__"
   ]
  },
  {
   "cell_type": "markdown",
   "id": "116491b1",
   "metadata": {},
   "source": [
    "Ans.  A recursive function is a function that calls itself during its execution. The process may repeat several times, outputting the result and the end of each iteration."
   ]
  },
  {
   "cell_type": "code",
   "execution_count": 4,
   "id": "39325657",
   "metadata": {},
   "outputs": [],
   "source": [
    "def tower(n, sourcePole, destinationPole, auxiliaryPole):\n",
    "    if(0 == n):\n",
    "        return\n",
    "    \n",
    "    (n-1, sourcePole, auxiliaryPole, destinationPole)\n",
    "    (\"Move the disk\",sourcePole,\"from\",sourcePole,\"to\",destinationPole)\n",
    "    (n-1, auxiliaryPole, destinationPole,sourcePole)\n",
    "\n",
    "tower(3, 'S', 'D', 'A')"
   ]
  },
  {
   "cell_type": "markdown",
   "id": "5167d2de",
   "metadata": {},
   "source": [
    ">__6. What are some general design guidelines for coding functions?__"
   ]
  },
  {
   "cell_type": "markdown",
   "id": "3dbbd59b",
   "metadata": {},
   "source": [
    "Ans.\n",
    "\n",
    "* Safe: It can be used without causing harm.\n",
    "* Secure: It can't be hacked.\n",
    "* Reliable: It functions as it should, every time.\n",
    "* Testable: It can be tested at the code level.\n",
    "* Maintainable: It can be maintained, even as your codebase grows.\n",
    "* Portable: It works the same in every environment.\n"
   ]
  },
  {
   "cell_type": "markdown",
   "id": "3b400767",
   "metadata": {},
   "source": [
    ">__7. Name three or more ways that functions can communicate results to a caller.__"
   ]
  },
  {
   "cell_type": "markdown",
   "id": "4c501701",
   "metadata": {},
   "source": [
    "Ans. Variable-length Arguments , The Anonymous Functions , The return Statement, Default Arguments, Keyword Arguments etc."
   ]
  }
 ],
 "metadata": {
  "kernelspec": {
   "display_name": "Python 3",
   "language": "python",
   "name": "python3"
  },
  "language_info": {
   "codemirror_mode": {
    "name": "ipython",
    "version": 3
   },
   "file_extension": ".py",
   "mimetype": "text/x-python",
   "name": "python",
   "nbconvert_exporter": "python",
   "pygments_lexer": "ipython3",
   "version": "3.8.8"
  }
 },
 "nbformat": 4,
 "nbformat_minor": 5
}
